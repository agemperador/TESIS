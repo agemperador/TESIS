{
 "cells": [
  {
   "cell_type": "code",
   "execution_count": 1,
   "metadata": {},
   "outputs": [
    {
     "name": "stderr",
     "output_type": "stream",
     "text": [
      "/home/agustin/anaconda3/lib/python3.7/site-packages/dask/config.py:168: YAMLLoadWarning: calling yaml.load() without Loader=... is deprecated, as the default Loader is unsafe. Please read https://msg.pyyaml.org/load for full details.\n",
      "  data = yaml.load(f.read()) or {}\n",
      "/home/agustin/anaconda3/lib/python3.7/site-packages/distributed/config.py:20: YAMLLoadWarning: calling yaml.load() without Loader=... is deprecated, as the default Loader is unsafe. Please read https://msg.pyyaml.org/load for full details.\n",
      "  defaults = yaml.load(f)\n"
     ]
    }
   ],
   "source": [
    "from librerias import *"
   ]
  },
  {
   "cell_type": "code",
   "execution_count": 5,
   "metadata": {},
   "outputs": [
    {
     "name": "stdout",
     "output_type": "stream",
     "text": [
      "['/media/agustin/Linux/salidas_wrf/compl-ndg/wrfout_d02_2018-11-10_00:00:00', '/media/agustin/Linux/salidas_wrf/compl-ndg/wrfout_d02_2018-11-10_12:00:00', '/media/agustin/Linux/salidas_wrf/compl-ndg/wrfout_d02_2018-11-11_00:00:00', '/media/agustin/Linux/salidas_wrf/compl-ndg/wrfout_d02_2018-11-11_12:00:00', '/media/agustin/Linux/salidas_wrf/control-ndg2/wrfout_d02_2018-11-10_00:00:00', '/media/agustin/Linux/salidas_wrf/control-ndg2/wrfout_d02_2018-11-10_12:00:00', '/media/agustin/Linux/salidas_wrf/control-ndg2/wrfout_d02_2018-11-11_00:00:00', '/media/agustin/Linux/salidas_wrf/control-ndg2/wrfout_d02_2018-11-11_12:00:00', '/media/agustin/Linux/salidas_wrf/control-ndg/wrfout_d02_2018-11-10_00:00:00', '/media/agustin/Linux/salidas_wrf/control-ndg/wrfout_d02_2018-11-10_12:00:00', '/media/agustin/Linux/salidas_wrf/control-ndg/wrfout_d02_2018-11-11_00:00:00', '/media/agustin/Linux/salidas_wrf/control-ndg/wrfout_d02_2018-11-11_12:00:00', '/media/agustin/Linux/salidas_wrf/test01/wrfout_d02_2018-11-10_00:00:00', '/media/agustin/Linux/salidas_wrf/test01/wrfout_d02_2018-11-10_12:00:00', '/media/agustin/Linux/salidas_wrf/test01/wrfout_d02_2018-11-11_00:00:00', '/media/agustin/Linux/salidas_wrf/test01/wrfout_d02_2018-11-11_12:00:00']\n"
     ]
    }
   ],
   "source": [
    "datos = !ls /media/agustin/Linux/salidas_wrf/*/*00\n",
    "\n",
    "acumulado = [0]\n",
    "sim = datos[0][:-30]\n",
    "simulaciones=[sim]\n",
    "wmax = [0]\n",
    "print(datos)\n",
    "for dato in datos:\n",
    "    \n",
    "    \n",
    "    nc = Dataset(dato,'r')\n",
    "    \n",
    "    precip = nc.variables['RAINNC']\n",
    "    w=nc.variables['W']\n",
    "    \n",
    "    \n",
    "    if dato[:-30]==sim:\n",
    "        acumulado[-1]+= np.sum(precip[-1,...])\n",
    "        wmax [-1] = (dato[-9:],np.where(w==np.max(w)),np.max(w))\n",
    "    else:\n",
    "        sim = dato[:-30]\n",
    "        simulaciones.append(sim)\n",
    "        wmax.append((dato[-9:],np.where(w==np.max(w)),np.max(w)))\n",
    "        acumulado.append(np.sum(precip[-1,...]))"
   ]
  },
  {
   "cell_type": "code",
   "execution_count": 37,
   "metadata": {},
   "outputs": [
    {
     "data": {
      "text/plain": [
       "[4326311.8984375, 3498646.5, 3721702.5, 3632372.2]"
      ]
     },
     "execution_count": 37,
     "metadata": {},
     "output_type": "execute_result"
    }
   ],
   "source": [
    "acumulado"
   ]
  },
  {
   "cell_type": "code",
   "execution_count": 4,
   "metadata": {},
   "outputs": [
    {
     "data": {
      "text/plain": [
       "['/media/agustin/Linux/salidas_wrf/compl-ndg/',\n",
       " '/media/agustin/Linux/salidas_wrf/control-ndg2/',\n",
       " '/media/agustin/Linux/salidas_wrf/control-ndg/',\n",
       " '/media/agustin/Linux/salidas_wrf/test01/']"
      ]
     },
     "execution_count": 4,
     "metadata": {},
     "output_type": "execute_result"
    }
   ],
   "source": [
    "simulaciones"
   ]
  },
  {
   "cell_type": "code",
   "execution_count": 6,
   "metadata": {},
   "outputs": [
    {
     "data": {
      "text/plain": [
       "[('_12:00:00',\n",
       "  (array([0]), array([25]), array([232]), array([115])),\n",
       "  30.954868),\n",
       " ('_12:00:00',\n",
       "  (array([0]), array([23]), array([157]), array([294])),\n",
       "  25.768085),\n",
       " ('_12:00:00',\n",
       "  (array([0]), array([23]), array([200]), array([111])),\n",
       "  28.392061),\n",
       " ('_12:00:00',\n",
       "  (array([0]), array([25]), array([204]), array([161])),\n",
       "  26.883614)]"
      ]
     },
     "execution_count": 6,
     "metadata": {},
     "output_type": "execute_result"
    }
   ],
   "source": [
    "wmax"
   ]
  },
  {
   "cell_type": "code",
   "execution_count": null,
   "metadata": {},
   "outputs": [],
   "source": []
  }
 ],
 "metadata": {
  "kernelspec": {
   "display_name": "Python 3",
   "language": "python",
   "name": "python3"
  },
  "language_info": {
   "codemirror_mode": {
    "name": "ipython",
    "version": 3
   },
   "file_extension": ".py",
   "mimetype": "text/x-python",
   "name": "python",
   "nbconvert_exporter": "python",
   "pygments_lexer": "ipython3",
   "version": "3.7.3"
  }
 },
 "nbformat": 4,
 "nbformat_minor": 2
}
