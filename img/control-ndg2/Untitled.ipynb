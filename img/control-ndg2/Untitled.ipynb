{
 "cells": [
  {
   "cell_type": "code",
   "execution_count": 1,
   "metadata": {},
   "outputs": [
    {
     "name": "stdout",
     "output_type": "stream",
     "text": [
      "especies   Hovmoller  Otros  QVAPOR  Untitled.ipynb\n",
      "Helicidad  Indices    P500   Track   Zsec\n"
     ]
    }
   ],
   "source": [
    "!ls"
   ]
  },
  {
   "cell_type": "code",
   "execution_count": 4,
   "metadata": {},
   "outputs": [
    {
     "data": {
      "text/plain": [
       "['control-ndg2_ascensos_2018-11-10_19:00:0.png',\n",
       " 'control-ndg2_ascensos_2018-11-10_19:15:0.png',\n",
       " 'control-ndg2_ascensos_2018-11-10_19:30:0.png',\n",
       " 'control-ndg2_ascensos_2018-11-10_19:45:0.png',\n",
       " 'control-ndg2_ascensos_2018-11-10_20:00:0.png',\n",
       " 'control-ndg2_ascensos_2018-11-10_20:15:0.png',\n",
       " 'control-ndg2_ascensos_2018-11-10_20:30:0.png',\n",
       " 'control-ndg2_ascensos_2018-11-10_20:45:0.png',\n",
       " 'control-ndg2_ascensos_2018-11-10_21:00:0.png',\n",
       " 'control-ndg2_ascensos_2018-11-10_21:15:0.png',\n",
       " 'control-ndg2_ascensos_2018-11-10_21:30:0.png',\n",
       " 'control-ndg2_ascensos_2018-11-10_21:45:0.png',\n",
       " 'control-ndg2_ascensos_2018-11-10_22:00:0.png',\n",
       " 'control-ndg2_ascensos_2018-11-10_22:15:0.png',\n",
       " 'control-ndg2_ascensos_2018-11-10_22:30:0.png',\n",
       " 'control-ndg2_ascensos_z_2018-11-10_19:00:0.png',\n",
       " 'control-ndg2_ascensos_z_2018-11-10_19:15:0.png',\n",
       " 'control-ndg2_descensos_2018-11-10_19:00:0.png',\n",
       " 'control-ndg2_descensos_2018-11-10_19:15:0.png',\n",
       " 'control-ndg2_descensos_2018-11-10_19:30:0.png',\n",
       " 'control-ndg2_descensos_2018-11-10_19:45:0.png',\n",
       " 'control-ndg2_descensos_2018-11-10_20:00:0.png',\n",
       " 'control-ndg2_descensos_2018-11-10_20:15:0.png',\n",
       " 'control-ndg2_descensos_2018-11-10_20:30:0.png',\n",
       " 'control-ndg2_descensos_2018-11-10_20:45:0.png',\n",
       " 'control-ndg2_descensos_2018-11-10_21:00:0.png',\n",
       " 'control-ndg2_descensos_2018-11-10_21:15:0.png',\n",
       " 'control-ndg2_descensos_2018-11-10_21:30:0.png',\n",
       " 'control-ndg2_descensos_2018-11-10_21:45:0.png',\n",
       " 'control-ndg2_descensos_2018-11-10_22:00:0.png',\n",
       " 'control-ndg2_descensos_2018-11-10_22:15:0.png',\n",
       " 'control-ndg2_descensos_2018-11-10_22:30:0.png',\n",
       " 'control-ndg2_descensos_z_2018-11-10_19:00:0.png',\n",
       " 'control-ndg2_descensos_z_2018-11-10_19:15:0.png',\n",
       " 'wmax_2018-11-10_18:00:0.png',\n",
       " 'wmax_2018-11-10_18:15:0.png',\n",
       " 'wmax_2018-11-10_18:30:0.png',\n",
       " 'wmax_2018-11-10_18:45:0.png',\n",
       " 'wmax_2018-11-10_19:00:0.png',\n",
       " 'wmax_2018-11-10_19:15:0.png',\n",
       " 'wmax_2018-11-10_19:30:0.png',\n",
       " 'wmax_2018-11-10_19:45:0.png',\n",
       " 'wmax_2018-11-10_20:00:0.png',\n",
       " 'wmax_2018-11-10_20:15:0.png',\n",
       " 'wmax_2018-11-10_20:30:0.png',\n",
       " 'wmax_2018-11-10_20:45:0.png',\n",
       " 'wmax_2018-11-10_21:00:0.png',\n",
       " 'wmax_2018-11-10_21:15:0.png',\n",
       " 'wmax_2018-11-10_21:30:0.png',\n",
       " 'wmax_2018-11-10_21:45:0.png',\n",
       " 'wmax_2018-11-10_22:00:0.png',\n",
       " 'wmax_2018-11-10_22:15:0.png',\n",
       " 'wmax_2018-11-10_22:30:0.png']"
      ]
     },
     "execution_count": 4,
     "metadata": {},
     "output_type": "execute_result"
    }
   ],
   "source": [
    "img = !ls especies/TRACK\n",
    "\n",
    "img"
   ]
  },
  {
   "cell_type": "code",
   "execution_count": 2,
   "metadata": {},
   "outputs": [
    {
     "name": "stdout",
     "output_type": "stream",
     "text": [
      "convert-im6.q16: unable to open image `QVAPOR/Q2ms-$Thetamc-Vsupslines-Lluviammhr-2018-11-10_03:00:00-utc': No such file or directory @ error/blob.c/OpenBlob/2701.\n",
      "convert-im6.q16: no decode delegate for this image format `' @ error/constitute.c/ReadImage/504.\n",
      "convert-im6.q16: no images defined `./QVAPOR/img_cortadas/QVAPOR/Q2ms-$Thetamc-Vsupslines-Lluviammhr-2018-11-10_03:00:00-utc.png' @ error/convert.c/ConvertImageCommand/3258.\n",
      "convert-im6.q16: unable to open image `QVAPOR/Q2ms-$Thetamc-Vsupslines-Lluviammhr-2018-11-10_04:00:00-utc': No such file or directory @ error/blob.c/OpenBlob/2701.\n",
      "convert-im6.q16: no decode delegate for this image format `' @ error/constitute.c/ReadImage/504.\n",
      "convert-im6.q16: no images defined `./QVAPOR/img_cortadas/QVAPOR/Q2ms-$Thetamc-Vsupslines-Lluviammhr-2018-11-10_04:00:00-utc.png' @ error/convert.c/ConvertImageCommand/3258.\n",
      "convert-im6.q16: unable to open image `QVAPOR/Q2ms-$Thetamc-Vsupslines-Lluviammhr-2018-11-10_05:00:00-utc': No such file or directory @ error/blob.c/OpenBlob/2701.\n",
      "convert-im6.q16: no decode delegate for this image format `' @ error/constitute.c/ReadImage/504.\n",
      "convert-im6.q16: no images defined `./QVAPOR/img_cortadas/QVAPOR/Q2ms-$Thetamc-Vsupslines-Lluviammhr-2018-11-10_05:00:00-utc.png' @ error/convert.c/ConvertImageCommand/3258.\n",
      "convert-im6.q16: unable to open image `QVAPOR/Q2ms-$Thetamc-Vsupslines-Lluviammhr-2018-11-10_06:00:00-utc': No such file or directory @ error/blob.c/OpenBlob/2701.\n",
      "convert-im6.q16: no decode delegate for this image format `' @ error/constitute.c/ReadImage/504.\n",
      "convert-im6.q16: no images defined `./QVAPOR/img_cortadas/QVAPOR/Q2ms-$Thetamc-Vsupslines-Lluviammhr-2018-11-10_06:00:00-utc.png' @ error/convert.c/ConvertImageCommand/3258.\n",
      "convert-im6.q16: unable to open image `QVAPOR/Q2ms-$Thetamc-Vsupslines-Lluviammhr-2018-11-10_07:00:00-utc': No such file or directory @ error/blob.c/OpenBlob/2701.\n",
      "convert-im6.q16: no decode delegate for this image format `' @ error/constitute.c/ReadImage/504.\n",
      "convert-im6.q16: no images defined `./QVAPOR/img_cortadas/QVAPOR/Q2ms-$Thetamc-Vsupslines-Lluviammhr-2018-11-10_07:00:00-utc.png' @ error/convert.c/ConvertImageCommand/3258.\n",
      "convert-im6.q16: unable to open image `QVAPOR/Q2ms-$Thetamc-Vsupslines-Lluviammhr-2018-11-10_15:00:00-utc': No such file or directory @ error/blob.c/OpenBlob/2701.\n",
      "convert-im6.q16: no decode delegate for this image format `' @ error/constitute.c/ReadImage/504.\n",
      "convert-im6.q16: no images defined `./QVAPOR/img_cortadas/QVAPOR/Q2ms-$Thetamc-Vsupslines-Lluviammhr-2018-11-10_15:00:00-utc.png' @ error/convert.c/ConvertImageCommand/3258.\n",
      "convert-im6.q16: unable to open image `QVAPOR/Q2ms-$Thetamc-Vsupslines-Lluviammhr-2018-11-10_16:00:00-utc.png': No such file or directory @ error/blob.c/OpenBlob/2701.\n",
      "convert-im6.q16: no images defined `./QVAPOR/img_cortadas/QVAPOR/Q2ms-$Thetamc-Vsupslines-Lluviammhr-2018-11-10_16:00:00-utc.png.png' @ error/convert.c/ConvertImageCommand/3258.\n",
      "convert-im6.q16: unable to open image `QVAPOR/Q2ms-$Thetamc-Vsupslines-Lluviammhr-2018-11-10_17:00:00-utc': No such file or directory @ error/blob.c/OpenBlob/2701.\n",
      "convert-im6.q16: no decode delegate for this image format `' @ error/constitute.c/ReadImage/504.\n",
      "convert-im6.q16: no images defined `./QVAPOR/img_cortadas/QVAPOR/Q2ms-$Thetamc-Vsupslines-Lluviammhr-2018-11-10_17:00:00-utc.png' @ error/convert.c/ConvertImageCommand/3258.\n",
      "convert-im6.q16: unable to open image `QVAPOR/Q2ms-$Thetamc-Vsupslines-Lluviammhr-2018-11-10_18:00:00-utc': No such file or directory @ error/blob.c/OpenBlob/2701.\n",
      "convert-im6.q16: no decode delegate for this image format `' @ error/constitute.c/ReadImage/504.\n",
      "convert-im6.q16: no images defined `./QVAPOR/img_cortadas/QVAPOR/Q2ms-$Thetamc-Vsupslines-Lluviammhr-2018-11-10_18:00:00-utc.png' @ error/convert.c/ConvertImageCommand/3258.\n",
      "convert-im6.q16: unable to open image `QVAPOR/Q2ms-$Thetamc-Vsupslines-Lluviammhr-2018-11-10_19:00:00-utc': No such file or directory @ error/blob.c/OpenBlob/2701.\n",
      "convert-im6.q16: no decode delegate for this image format `' @ error/constitute.c/ReadImage/504.\n",
      "convert-im6.q16: no images defined `./QVAPOR/img_cortadas/QVAPOR/Q2ms-$Thetamc-Vsupslines-Lluviammhr-2018-11-10_19:00:00-utc.png' @ error/convert.c/ConvertImageCommand/3258.\n",
      "convert-im6.q16: unable to open image `QVAPOR/Q2ms-$Thetamc-Vsupslines-Lluviammhr-2018-11-10_20:00:00-utc': No such file or directory @ error/blob.c/OpenBlob/2701.\n",
      "convert-im6.q16: no decode delegate for this image format `' @ error/constitute.c/ReadImage/504.\n",
      "convert-im6.q16: no images defined `./QVAPOR/img_cortadas/QVAPOR/Q2ms-$Thetamc-Vsupslines-Lluviammhr-2018-11-10_20:00:00-utc.png' @ error/convert.c/ConvertImageCommand/3258.\n",
      "convert-im6.q16: unable to open image `QVAPOR/Q2ms-$Thetamc-Vsupslines-Lluviammhr-2018-11-10_21:00:00-utc': No such file or directory @ error/blob.c/OpenBlob/2701.\n",
      "convert-im6.q16: no decode delegate for this image format `' @ error/constitute.c/ReadImage/504.\n",
      "convert-im6.q16: no images defined `./QVAPOR/img_cortadas/QVAPOR/Q2ms-$Thetamc-Vsupslines-Lluviammhr-2018-11-10_21:00:00-utc.png' @ error/convert.c/ConvertImageCommand/3258.\n",
      "convert-im6.q16: unable to open image `QVAPOR/Q2ms-$Thetamc-Vsupslines-Lluviammhr-2018-11-10_22:00:00-utc': No such file or directory @ error/blob.c/OpenBlob/2701.\n",
      "convert-im6.q16: no decode delegate for this image format `' @ error/constitute.c/ReadImage/504.\n",
      "convert-im6.q16: no images defined `./QVAPOR/img_cortadas/QVAPOR/Q2ms-$Thetamc-Vsupslines-Lluviammhr-2018-11-10_22:00:00-utc.png' @ error/convert.c/ConvertImageCommand/3258.\n",
      "convert-im6.q16: unable to open image `QVAPOR/Q2ms-$Thetamc-Vsupslines-Lluviammhr-2018-11-10_23:00:00-utc': No such file or directory @ error/blob.c/OpenBlob/2701.\n",
      "convert-im6.q16: no decode delegate for this image format `' @ error/constitute.c/ReadImage/504.\n",
      "convert-im6.q16: no images defined `./QVAPOR/img_cortadas/QVAPOR/Q2ms-$Thetamc-Vsupslines-Lluviammhr-2018-11-10_23:00:00-utc.png' @ error/convert.c/ConvertImageCommand/3258.\n",
      "convert-im6.q16: unable to open image `QVAPOR/Q2ms-$Thetamc-Vsupslines-Lluviammhr-2018-11-11_00:00:00-utc': No such file or directory @ error/blob.c/OpenBlob/2701.\n",
      "convert-im6.q16: no decode delegate for this image format `' @ error/constitute.c/ReadImage/504.\n",
      "convert-im6.q16: no images defined `./QVAPOR/img_cortadas/QVAPOR/Q2ms-$Thetamc-Vsupslines-Lluviammhr-2018-11-11_00:00:00-utc.png' @ error/convert.c/ConvertImageCommand/3258.\n",
      "convert-im6.q16: unable to open image `QVAPOR/Q2ms-$Thetamc-Vsupslines-Lluviammhr-2018-11-11_01:00:00-utc': No such file or directory @ error/blob.c/OpenBlob/2701.\n",
      "convert-im6.q16: no decode delegate for this image format `' @ error/constitute.c/ReadImage/504.\n",
      "convert-im6.q16: no images defined `./QVAPOR/img_cortadas/QVAPOR/Q2ms-$Thetamc-Vsupslines-Lluviammhr-2018-11-11_01:00:00-utc.png' @ error/convert.c/ConvertImageCommand/3258.\n",
      "convert-im6.q16: unable to open image `QVAPOR/Q2ms-$Thetamc-Vsupslines-Lluviammhr-2018-11-11_02:00:00-utc': No such file or directory @ error/blob.c/OpenBlob/2701.\n",
      "convert-im6.q16: no decode delegate for this image format `' @ error/constitute.c/ReadImage/504.\n",
      "convert-im6.q16: no images defined `./QVAPOR/img_cortadas/QVAPOR/Q2ms-$Thetamc-Vsupslines-Lluviammhr-2018-11-11_02:00:00-utc.png' @ error/convert.c/ConvertImageCommand/3258.\n",
      "convert-im6.q16: unable to open image `QVAPOR/Q2ms-$Thetamc-Vsupslines-Lluviammhr-2018-11-11_03:00:00-utc': No such file or directory @ error/blob.c/OpenBlob/2701.\n",
      "convert-im6.q16: no decode delegate for this image format `' @ error/constitute.c/ReadImage/504.\n",
      "convert-im6.q16: no images defined `./QVAPOR/img_cortadas/QVAPOR/Q2ms-$Thetamc-Vsupslines-Lluviammhr-2018-11-11_03:00:00-utc.png' @ error/convert.c/ConvertImageCommand/3258.\n",
      "convert-im6.q16: unable to open image `QVAPOR/Q2ms-$Thetamc-Vsupslines-Lluviammhr-2018-11-11_04:00:00-utc': No such file or directory @ error/blob.c/OpenBlob/2701.\n",
      "convert-im6.q16: no decode delegate for this image format `' @ error/constitute.c/ReadImage/504.\n",
      "convert-im6.q16: no images defined `./QVAPOR/img_cortadas/QVAPOR/Q2ms-$Thetamc-Vsupslines-Lluviammhr-2018-11-11_04:00:00-utc.png' @ error/convert.c/ConvertImageCommand/3258.\n",
      "convert-im6.q16: unable to open image `QVAPOR/Q2ms-$Thetamc-Vsupslines-Lluviammhr-2018-11-11_05:00:00-utc': No such file or directory @ error/blob.c/OpenBlob/2701.\n",
      "convert-im6.q16: no decode delegate for this image format `' @ error/constitute.c/ReadImage/504.\n",
      "convert-im6.q16: no images defined `./QVAPOR/img_cortadas/QVAPOR/Q2ms-$Thetamc-Vsupslines-Lluviammhr-2018-11-11_05:00:00-utc.png' @ error/convert.c/ConvertImageCommand/3258.\n",
      "convert-im6.q16: unable to open image `QVAPOR/Q2ms-$Thetamc-Vsupslines-Lluviammhr-2018-11-11_06:00:00-utc': No such file or directory @ error/blob.c/OpenBlob/2701.\n",
      "convert-im6.q16: no decode delegate for this image format `' @ error/constitute.c/ReadImage/504.\n",
      "convert-im6.q16: no images defined `./QVAPOR/img_cortadas/QVAPOR/Q2ms-$Thetamc-Vsupslines-Lluviammhr-2018-11-11_06:00:00-utc.png' @ error/convert.c/ConvertImageCommand/3258.\n",
      "convert-im6.q16: unable to open image `QVAPOR/Q2ms-$Thetamc-Vsupslines-Lluviammhr-2018-11-11_07:00:00-utc': No such file or directory @ error/blob.c/OpenBlob/2701.\n",
      "convert-im6.q16: no decode delegate for this image format `' @ error/constitute.c/ReadImage/504.\n",
      "convert-im6.q16: no images defined `./QVAPOR/img_cortadas/QVAPOR/Q2ms-$Thetamc-Vsupslines-Lluviammhr-2018-11-11_07:00:00-utc.png' @ error/convert.c/ConvertImageCommand/3258.\n",
      "convert-im6.q16: unable to open image `QVAPOR/Q2ms-$Thetamc-Vsupslines-Lluviammhr-2018-11-11_08:00:00-utc': No such file or directory @ error/blob.c/OpenBlob/2701.\n",
      "convert-im6.q16: no decode delegate for this image format `' @ error/constitute.c/ReadImage/504.\n",
      "convert-im6.q16: no images defined `./QVAPOR/img_cortadas/QVAPOR/Q2ms-$Thetamc-Vsupslines-Lluviammhr-2018-11-11_08:00:00-utc.png' @ error/convert.c/ConvertImageCommand/3258.\n",
      "convert-im6.q16: unable to open image `QVAPOR/Q2ms-$Thetamc-Vsupslines-Lluviammhr-2018-11-11_09:00:00-utc': No such file or directory @ error/blob.c/OpenBlob/2701.\n",
      "convert-im6.q16: no decode delegate for this image format `' @ error/constitute.c/ReadImage/504.\n",
      "convert-im6.q16: no images defined `./QVAPOR/img_cortadas/QVAPOR/Q2ms-$Thetamc-Vsupslines-Lluviammhr-2018-11-11_09:00:00-utc.png' @ error/convert.c/ConvertImageCommand/3258.\n",
      "convert-im6.q16: unable to open image `QVAPOR/Q2ms-$Thetamc-Vsupslines-Lluviammhr-2018-11-11_10:00:00-utc': No such file or directory @ error/blob.c/OpenBlob/2701.\n",
      "convert-im6.q16: no decode delegate for this image format `' @ error/constitute.c/ReadImage/504.\n",
      "convert-im6.q16: no images defined `./QVAPOR/img_cortadas/QVAPOR/Q2ms-$Thetamc-Vsupslines-Lluviammhr-2018-11-11_10:00:00-utc.png' @ error/convert.c/ConvertImageCommand/3258.\n",
      "convert-im6.q16: unable to open image `QVAPOR/Q2ms-$Thetamc-Vsupslines-Lluviammhr-2018-11-11_11:00:00-utc': No such file or directory @ error/blob.c/OpenBlob/2701.\n",
      "convert-im6.q16: no decode delegate for this image format `' @ error/constitute.c/ReadImage/504.\n",
      "convert-im6.q16: no images defined `./QVAPOR/img_cortadas/QVAPOR/Q2ms-$Thetamc-Vsupslines-Lluviammhr-2018-11-11_11:00:00-utc.png' @ error/convert.c/ConvertImageCommand/3258.\n"
     ]
    }
   ],
   "source": [
    "for im in img:\n",
    "    !convert -trim {im} ./QVAPOR/img_cortadas/{im+'.png'}"
   ]
  },
  {
   "cell_type": "code",
   "execution_count": null,
   "metadata": {},
   "outputs": [],
   "source": []
  }
 ],
 "metadata": {
  "kernelspec": {
   "display_name": "Python 3",
   "language": "python",
   "name": "python3"
  },
  "language_info": {
   "codemirror_mode": {
    "name": "ipython",
    "version": 3
   },
   "file_extension": ".py",
   "mimetype": "text/x-python",
   "name": "python",
   "nbconvert_exporter": "python",
   "pygments_lexer": "ipython3",
   "version": "3.7.3"
  }
 },
 "nbformat": 4,
 "nbformat_minor": 2
}
