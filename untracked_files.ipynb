{
 "cells": [
  {
   "cell_type": "code",
   "execution_count": 6,
   "metadata": {},
   "outputs": [
    {
     "ename": "NameError",
     "evalue": "name 'librerias' is not defined",
     "output_type": "error",
     "traceback": [
      "\u001b[0;31m---------------------------------------------------------------------------\u001b[0m",
      "\u001b[0;31mNameError\u001b[0m                                 Traceback (most recent call last)",
      "\u001b[0;32m<ipython-input-6-02727f7042b8>\u001b[0m in \u001b[0;36m<module>\u001b[0;34m\u001b[0m\n\u001b[0;32m----> 1\u001b[0;31m \u001b[0;32mdel\u001b[0m\u001b[0;34m(\u001b[0m\u001b[0mlibrerias\u001b[0m\u001b[0;34m)\u001b[0m\u001b[0;34m\u001b[0m\u001b[0;34m\u001b[0m\u001b[0m\n\u001b[0m\u001b[1;32m      2\u001b[0m \u001b[0;32mfrom\u001b[0m \u001b[0mlibrerias\u001b[0m \u001b[0;32mimport\u001b[0m \u001b[0;34m*\u001b[0m\u001b[0;34m\u001b[0m\u001b[0;34m\u001b[0m\u001b[0m\n",
      "\u001b[0;31mNameError\u001b[0m: name 'librerias' is not defined"
     ]
    }
   ],
   "source": [
    "from librerias import *\n"
   ]
  },
  {
   "cell_type": "code",
   "execution_count": 21,
   "metadata": {},
   "outputs": [
    {
     "data": {
      "text/plain": [
       "['/media/agustin/1D36257C5C6244CB/WRF_sim/Datos_Faltantes/3D-an_wrfout_d02.nc',\n",
       " '/media/agustin/1D36257C5C6244CB/WRF_sim/Datos_Faltantes/System1_3D-wrfout_traj_B61-R30.nc',\n",
       " '/media/agustin/1D36257C5C6244CB/WRF_sim/Datos_Faltantes/System1_SFC-wrfout_traj_B61-R30.nc',\n",
       " '/media/agustin/1D36257C5C6244CB/WRF_sim/Datos_Faltantes/wrfout_d02_RAINNC-U10-V10-T2.nc']"
      ]
     },
     "execution_count": 21,
     "metadata": {},
     "output_type": "execute_result"
    }
   ],
   "source": [
    "a = !ls /media/agustin/1D36257C5C6244CB/WRF_sim/Datos_Faltantes/*.nc\n",
    "\n",
    "#path = \"/media/agustin/1D36257C5C6244CB/WRF_sim/Datos_Faltantes/\"\n",
    "a"
   ]
  },
  {
   "cell_type": "code",
   "execution_count": 29,
   "metadata": {},
   "outputs": [],
   "source": [
    "w = Dataset(a[0],'r')\n",
    "\n",
    "#data = Dataset(a[3],'r') "
   ]
  },
  {
   "cell_type": "code",
   "execution_count": 30,
   "metadata": {},
   "outputs": [],
   "source": [
    "data = Dataset('/media/agustin/Linux/salidas_wrf/control-ndg2/wrfout_d02_2018-11-10_12:00:00','r')"
   ]
  },
  {
   "cell_type": "code",
   "execution_count": 35,
   "metadata": {},
   "outputs": [
    {
     "data": {
      "text/plain": [
       "<class 'netCDF4._netCDF4.Variable'>\n",
       "float32 T(Time, bottom_top, south_north, west_east)\n",
       "    FieldType: 104\n",
       "    MemoryOrder: XYZ\n",
       "    description: perturbation potential temperature theta-t0\n",
       "    units: K\n",
       "    stagger: \n",
       "    coordinates: XLONG XLAT XTIME\n",
       "unlimited dimensions: Time\n",
       "current shape = (48, 59, 305, 305)\n",
       "filling on, default _FillValue of 9.969209968386869e+36 used"
      ]
     },
     "execution_count": 35,
     "metadata": {},
     "output_type": "execute_result"
    }
   ],
   "source": [
    "data.variables['T']"
   ]
  },
  {
   "cell_type": "code",
   "execution_count": null,
   "metadata": {},
   "outputs": [],
   "source": []
  }
 ],
 "metadata": {
  "kernelspec": {
   "display_name": "Python 3",
   "language": "python",
   "name": "python3"
  },
  "language_info": {
   "codemirror_mode": {
    "name": "ipython",
    "version": 3
   },
   "file_extension": ".py",
   "mimetype": "text/x-python",
   "name": "python",
   "nbconvert_exporter": "python",
   "pygments_lexer": "ipython3",
   "version": "3.7.3"
  }
 },
 "nbformat": 4,
 "nbformat_minor": 2
}
